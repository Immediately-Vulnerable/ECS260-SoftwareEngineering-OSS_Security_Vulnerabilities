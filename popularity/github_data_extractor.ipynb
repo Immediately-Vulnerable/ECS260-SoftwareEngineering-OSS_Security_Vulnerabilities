{
  "nbformat": 4,
  "nbformat_minor": 0,
  "metadata": {
    "colab": {
      "name": "github_data_extractor.ipynb",
      "provenance": [],
      "collapsed_sections": []
    },
    "kernelspec": {
      "display_name": "Python 3",
      "name": "python3"
    },
    "language_info": {
      "name": "python"
    }
  },
  "cells": [
    {
      "cell_type": "code",
      "metadata": {
        "colab": {
          "base_uri": "https://localhost:8080/"
        },
        "id": "dq8_N1PD0TI9",
        "outputId": "66c17916-922f-4c14-d8d6-4241f9d912c7"
      },
      "source": [
        "!pip install requests"
      ],
      "execution_count": null,
      "outputs": [
        {
          "output_type": "stream",
          "name": "stdout",
          "text": [
            "Requirement already satisfied: requests in /usr/local/lib/python3.7/dist-packages (2.23.0)\n",
            "Requirement already satisfied: chardet<4,>=3.0.2 in /usr/local/lib/python3.7/dist-packages (from requests) (3.0.4)\n",
            "Requirement already satisfied: urllib3!=1.25.0,!=1.25.1,<1.26,>=1.21.1 in /usr/local/lib/python3.7/dist-packages (from requests) (1.24.3)\n",
            "Requirement already satisfied: certifi>=2017.4.17 in /usr/local/lib/python3.7/dist-packages (from requests) (2021.10.8)\n",
            "Requirement already satisfied: idna<3,>=2.5 in /usr/local/lib/python3.7/dist-packages (from requests) (2.10)\n"
          ]
        }
      ]
    },
    {
      "cell_type": "markdown",
      "metadata": {
        "id": "mQj_VgscMSqN"
      },
      "source": [
        "Method for getting github stats: Watchers, forks and stars"
      ]
    },
    {
      "cell_type": "code",
      "metadata": {
        "id": "NxFBwPzi1LzS"
      },
      "source": [
        "import requests\n",
        "import json\n",
        "import time\n",
        "from pprint import pprint\n",
        "\n",
        "# Add your GitHub Personal Access Token (PAT) to make 5000 requests per hour, otherwise you're limited to 80 requests per hour\n",
        "github_token = \"\"\n",
        "\n",
        "def get_github_stats(repo_data):\n",
        "    project_name, repo_url = repo_data\n",
        "    owner_name = repo_url.split('/')[-2]\n",
        "    repo_name = repo_url.split('/')[-1]\n",
        "    api_url = f\"https://api.github.com/repos/{owner_name}/{repo_name}\"\n",
        "    response = requests.get(api_url, headers={'Authorization': f'token {github_token}'})\n",
        "    response_json = json.loads(response.text)\n",
        "    # pprint(response_json)\n",
        "\n",
        "    return (project_name, repo_url, response_json.get(\"language\"), response_json.get(\"subscribers_count\"), response_json.get(\"forks_count\"), response_json.get(\"stargazers_count\"))"
      ],
      "execution_count": null,
      "outputs": []
    },
    {
      "cell_type": "code",
      "metadata": {
        "colab": {
          "base_uri": "https://localhost:8080/"
        },
        "id": "qrmQFo8md-i-",
        "outputId": "dddcd6c2-25cd-48ce-bb2d-bb55c485de69"
      },
      "source": [
        "print(get_github_stats((\"express\", \"https://github.com/expressjs/express\")))"
      ],
      "execution_count": null,
      "outputs": [
        {
          "output_type": "stream",
          "name": "stdout",
          "text": [
            "('express', 'https://github.com/expressjs/express', 'JavaScript', 1767, 9277, 54908)\n"
          ]
        }
      ]
    },
    {
      "cell_type": "markdown",
      "metadata": {
        "id": "mmzy5LxDMW4J"
      },
      "source": [
        "Method for getting releases for projects"
      ]
    },
    {
      "cell_type": "code",
      "metadata": {
        "id": "y1AejUO5gdh6"
      },
      "source": [
        "def get_github_releases(repo_data):\n",
        "    project_name, repo_url = repo_data\n",
        "    owner_name = repo_url.split('/')[-2]\n",
        "    repo_name = repo_url.split('/')[-1]\n",
        "    api_url = f\"https://api.github.com/repos/{owner_name}/{repo_name}/releases\"\n",
        "    print(api_url)\n",
        "    response = requests.get(api_url, headers={'Authorization': f'token {github_token}'})\n",
        "    response_json = json.loads(response.text)\n",
        "    releases = []\n",
        "    for release in response_json:\n",
        "      releases.append((project_name, repo_url, release[\"tag_name\"], release[\"html_url\"]))\n",
        "\n",
        "    return releases"
      ],
      "execution_count": null,
      "outputs": []
    },
    {
      "cell_type": "markdown",
      "metadata": {
        "id": "mhIszPPzMbQ2"
      },
      "source": [
        "Mounting datasets"
      ]
    },
    {
      "cell_type": "code",
      "metadata": {
        "colab": {
          "base_uri": "https://localhost:8080/"
        },
        "id": "1wU1I5g5LQjf",
        "outputId": "b1add1f7-54fe-4bec-9791-2d4d7c2d5c7f"
      },
      "source": [
        "from google.colab import drive\n",
        "drive.mount('/content/drive')"
      ],
      "execution_count": null,
      "outputs": [
        {
          "output_type": "stream",
          "name": "stdout",
          "text": [
            "Mounted at /content/drive\n"
          ]
        }
      ]
    },
    {
      "cell_type": "markdown",
      "metadata": {
        "id": "sjhfSbECMhAA"
      },
      "source": [
        "Reading all NPM projects and extracting top 5000 sorted by dependent repositories count"
      ]
    },
    {
      "cell_type": "code",
      "metadata": {
        "id": "BOUgX47RN7uJ"
      },
      "source": [
        "import pandas as pd\n",
        "\n",
        "filename = \"/content/drive/Shareddrives/ECS260-group5/dataset/libraries.io/(NPM_extracted)projects-1.6.0-2020-01-12.csv\"\n",
        "test = pd.read_csv(filename, nrows=30)\n",
        "display(test)"
      ],
      "execution_count": null,
      "outputs": []
    },
    {
      "cell_type": "code",
      "metadata": {
        "id": "jy-rGicqOlSu"
      },
      "source": [
        "# Read rows from filename into a dataframe\n",
        "# df = pd.read_csv(filename, nrows=50)\n",
        "df = pd.read_csv(filename, low_memory=False)"
      ],
      "execution_count": null,
      "outputs": []
    },
    {
      "cell_type": "code",
      "metadata": {
        "id": "gkqfxPIYwW9z"
      },
      "source": [
        "# Extract those rows which have a non-empty (no NaN) \"Repository URL\" value\n",
        "projects_with_repo_url = df[df[\"Repository URL\"].notnull()]\n",
        "\n",
        "# Filter out rows where the \"Repository URL\" is a valid URL\n",
        "projects_with_valid_repo_url = projects_with_repo_url[(projects_with_repo_url[\"Repository URL\"].str.startswith(\"https://github.com/\"))]\n",
        "\n",
        "# # Get only data under the \"Project Name\" & \"Repository URL\" column\n",
        "# project_name_list = projects_with_valid_repo_url[\"Name\"]\n",
        "# repo_list = projects_with_valid_repo_url[\"Repository URL\"]\n",
        "# display(repo_list)\n",
        "\n",
        "# TODO: get the top 10K projects_with_valid_repo_url which have the highest \"Dependent Repositories Count\"\n",
        "projects_with_highest_dependents = projects_with_valid_repo_url.sort_values(by=\"Dependent Repositories Count\", ascending=False)[:5000]\n",
        "display(projects_with_highest_dependents)\n",
        "\n",
        "# Get only data under the \"Project Name\" & \"Repository URL\" column\n",
        "project_name_list = projects_with_highest_dependents[\"Name\"]\n",
        "repo_list = projects_with_highest_dependents[\"Repository URL\"]\n",
        "display(repo_list)"
      ],
      "execution_count": null,
      "outputs": []
    },
    {
      "cell_type": "code",
      "metadata": {
        "id": "gvDdsbjzaLjl"
      },
      "source": [
        "import concurrent.futures\n",
        "\n",
        "dataset = []\n",
        "\n",
        "# Concurrently get github stats for each repo url\n",
        "with concurrent.futures.ThreadPoolExecutor() as executor:\n",
        "  results = executor.map(get_github_stats,  zip(project_name_list, repo_list))\n",
        "  dataset = [result for result in results]\n",
        "\n",
        "display(dataset)"
      ],
      "execution_count": null,
      "outputs": []
    },
    {
      "cell_type": "code",
      "metadata": {
        "id": "iCuJZPnAMLp8"
      },
      "source": [
        "import numpy as np\n",
        "\n",
        "column_names = ['Name', 'Repository URL', 'Language', 'Watchers', 'Forks', 'Stars']\n",
        "data = np.array(dataset)\n",
        "\n",
        "dataframe = pd.DataFrame(data, columns=column_names)\n",
        "display(dataframe)"
      ],
      "execution_count": null,
      "outputs": []
    },
    {
      "cell_type": "code",
      "metadata": {
        "id": "NPNymDcoTwYJ"
      },
      "source": [
        "dataframe_without_none = dataframe[(dataframe[\"Language\"].notnull() | dataframe[\"Watchers\"].notnull() | dataframe[\"Forks\"].notnull() | dataframe[\"Stars\"].notnull())]\n",
        "dataframe_without_none.Watchers = pd.to_numeric(dataframe_without_none.Watchers, errors='coerce')\n",
        "dataframe_without_none.Stars = pd.to_numeric(dataframe_without_none.Stars, errors='coerce')\n",
        "dataframe_without_none.Forks = pd.to_numeric(dataframe_without_none.Forks, errors='coerce')\n",
        "display(dataframe_without_none)\n",
        "\n",
        "dataframe_without_none.to_csv('/content/drive/Shareddrives/ECS260-group5/dataset/npm/(GitHub_Stats)(NPM_extracted)projects-1.6.0-2020-01-12.csv')"
      ],
      "execution_count": null,
      "outputs": []
    },
    {
      "cell_type": "markdown",
      "metadata": {
        "id": "H9hNnC43MILv"
      },
      "source": [
        "The following sections deal with extracting and plotting data for Watchers, Stars and Forks"
      ]
    },
    {
      "cell_type": "code",
      "metadata": {
        "id": "G7ZucI7pV86U"
      },
      "source": [
        "#Extract Watchers\n",
        "watchers = dataframe_without_none[[\"Name\", \"Repository URL\", \"Watchers\"]]\n",
        "sorted_watchers = watchers.sort_values(by=\"Watchers\", ascending=False)\n",
        "display(sorted_watchers)\n",
        "\n",
        "sorted_watchers.to_csv('/content/drive/Shareddrives/ECS260-group5/dataset/npm/github_watchers_count.csv')"
      ],
      "execution_count": null,
      "outputs": []
    },
    {
      "cell_type": "code",
      "metadata": {
        "id": "EDnwjKeb2YSc"
      },
      "source": [
        "import matplotlib.pyplot as plt\n",
        "\n",
        "plt.plot([x for x in range(len(sorted_watchers))], sorted_watchers[\"Watchers\"])\n",
        "plt.xlabel('Repo rank based on number of watchers')\n",
        "plt.ylabel('Number of watchers')\n",
        "plt.title('Watchers for the top ~5000 repos')\n",
        "plt.show()\n",
        "plt.close('all')"
      ],
      "execution_count": null,
      "outputs": []
    },
    {
      "cell_type": "code",
      "metadata": {
        "id": "2K2LN_LuWvAV"
      },
      "source": [
        "#Extract Stars\n",
        "stars = dataframe_without_none[[\"Name\", \"Repository URL\", \"Stars\"]]\n",
        "sorted_stars = stars.sort_values(by=\"Stars\", ascending=False)\n",
        "display(sorted_stars)\n",
        "\n",
        "sorted_stars.to_csv('/content/drive/Shareddrives/ECS260-group5/dataset/npm/github_stars_count.csv')"
      ],
      "execution_count": null,
      "outputs": []
    },
    {
      "cell_type": "code",
      "metadata": {
        "id": "RATOGEpW2M1o"
      },
      "source": [
        "import matplotlib.pyplot as plt\n",
        "\n",
        "plt.plot([x for x in range(len(sorted_stars))], sorted_stars[\"Stars\"])\n",
        "plt.xlabel('Repo rank based on number of stars')\n",
        "plt.ylabel('Number of stars')\n",
        "plt.title('Stars for the top ~5000 repos')\n",
        "plt.show()\n",
        "plt.close('all')"
      ],
      "execution_count": null,
      "outputs": []
    },
    {
      "cell_type": "code",
      "metadata": {
        "id": "p4U9kwR7WtPg"
      },
      "source": [
        "#Extract Forks\n",
        "forks = dataframe_without_none[[\"Name\", \"Repository URL\", \"Forks\"]]\n",
        "sorted_forks = forks.sort_values(by='Forks', ascending=False)\n",
        "display(sorted_forks)\n",
        "sorted_forks.to_csv('/content/drive/Shareddrives/ECS260-group5/dataset/npm/github_forks_count.csv')"
      ],
      "execution_count": null,
      "outputs": []
    },
    {
      "cell_type": "code",
      "metadata": {
        "id": "P9BZ5wjn0X2F"
      },
      "source": [
        "import matplotlib.pyplot as plt\n",
        "\n",
        "plt.plot([x for x in range(len(sorted_forks))], sorted_forks[\"Forks\"])\n",
        "plt.xlabel('Repo rank based on number of forks')\n",
        "plt.ylabel('Number of forks')\n",
        "plt.title('Forks for the top ~5000 repos')\n",
        "plt.show()\n",
        "plt.close('all')"
      ],
      "execution_count": null,
      "outputs": []
    },
    {
      "cell_type": "markdown",
      "metadata": {
        "id": "zYA2Z2gbLphi"
      },
      "source": [
        "The following 2 sections deals with getting release versions for top 5000 packages"
      ]
    },
    {
      "cell_type": "code",
      "metadata": {
        "id": "nLYk3-d6hRob"
      },
      "source": [
        "# Read GitHub_Stats for top_5k projects\n",
        "github_stats_filename = \"/content/drive/Shareddrives/ECS260-group5/dataset/npm/(GitHub_Stats)(NPM_extracted)projects-1.6.0-2020-01-12.csv\"\n",
        "# top_5k_projects = pd.read_csv(github_stats_filename, nrows=2, low_memory=False)\n",
        "top_5k_projects = pd.read_csv(github_stats_filename, low_memory=False)\n",
        "\n",
        "# take our name and repository url column\n",
        "project_name_list = top_5k_projects[\"Name\"]\n",
        "repo_list = top_5k_projects[\"Repository URL\"]\n",
        "zipped_list = zip(project_name_list, repo_list)\n",
        "\n",
        "# call get_github_releases for each project\n",
        "import concurrent.futures\n",
        "release_dataset = []\n",
        "with concurrent.futures.ThreadPoolExecutor() as executor:\n",
        "  results = executor.map(get_github_releases, zipped_list)\n",
        "  # release_dataset = [release for result in results for release in result]\n",
        "  for result in results:\n",
        "    for release in result:\n",
        "      release_dataset.append(release)\n",
        "\n",
        "# display(release_dataset)"
      ],
      "execution_count": null,
      "outputs": []
    },
    {
      "cell_type": "code",
      "metadata": {
        "id": "XSICog97u-At"
      },
      "source": [
        "# write to csv Name, Repository URL, Release Name, Release URL\n",
        "import numpy as np\n",
        "\n",
        "release_column_names = ['Name', 'Repository URL', 'Release Name', 'Release URL']\n",
        "release_data = np.array(release_dataset)\n",
        "\n",
        "release_dataframe = pd.DataFrame(release_data, columns=release_column_names)\n",
        "# display(release_dataframe)\n",
        "release_dataframe.to_csv('/content/drive/Shareddrives/ECS260-group5/dataset/npm/github_releases.csv')"
      ],
      "execution_count": null,
      "outputs": []
    },
    {
      "cell_type": "markdown",
      "metadata": {
        "id": "34KoVmobM953"
      },
      "source": [
        "Calculating correlation coefficients for Watchers, Stars and Forks"
      ]
    },
    {
      "cell_type": "code",
      "metadata": {
        "id": "2pWszsk9NJYf"
      },
      "source": [
        "import numpy as np\n",
        "\n",
        "# Read GitHub_Stats for top_5k projects\n",
        "github_stats_filename = \"/content/drive/Shareddrives/ECS260-group5/dataset/npm/(GitHub_Stats)(NPM_extracted)projects-1.6.0-2020-01-12.csv\"\n",
        "# top_5k_projects = pd.read_csv(github_stats_filename, nrows=2, low_memory=False)\n",
        "top_5k_projects_df = pd.read_csv(github_stats_filename, low_memory=False)\n",
        "\n",
        "correlation_data = top_5k_projects_df[['Watchers', 'Forks', 'Stars']]"
      ],
      "execution_count": null,
      "outputs": []
    },
    {
      "cell_type": "code",
      "metadata": {
        "colab": {
          "base_uri": "https://localhost:8080/",
          "height": 142
        },
        "id": "oNXoLrPHPGQU",
        "outputId": "d9248d98-6d06-4e2c-e7e6-d1ad81f0489c"
      },
      "source": [
        "# standard correlation coefficient\n",
        "correlation_data.corr(method='pearson')"
      ],
      "execution_count": null,
      "outputs": [
        {
          "output_type": "execute_result",
          "data": {
            "text/html": [
              "<div>\n",
              "<style scoped>\n",
              "    .dataframe tbody tr th:only-of-type {\n",
              "        vertical-align: middle;\n",
              "    }\n",
              "\n",
              "    .dataframe tbody tr th {\n",
              "        vertical-align: top;\n",
              "    }\n",
              "\n",
              "    .dataframe thead th {\n",
              "        text-align: right;\n",
              "    }\n",
              "</style>\n",
              "<table border=\"1\" class=\"dataframe\">\n",
              "  <thead>\n",
              "    <tr style=\"text-align: right;\">\n",
              "      <th></th>\n",
              "      <th>Watchers</th>\n",
              "      <th>Forks</th>\n",
              "      <th>Stars</th>\n",
              "    </tr>\n",
              "  </thead>\n",
              "  <tbody>\n",
              "    <tr>\n",
              "      <th>Watchers</th>\n",
              "      <td>1.000000</td>\n",
              "      <td>0.764951</td>\n",
              "      <td>0.914642</td>\n",
              "    </tr>\n",
              "    <tr>\n",
              "      <th>Forks</th>\n",
              "      <td>0.764951</td>\n",
              "      <td>1.000000</td>\n",
              "      <td>0.788725</td>\n",
              "    </tr>\n",
              "    <tr>\n",
              "      <th>Stars</th>\n",
              "      <td>0.914642</td>\n",
              "      <td>0.788725</td>\n",
              "      <td>1.000000</td>\n",
              "    </tr>\n",
              "  </tbody>\n",
              "</table>\n",
              "</div>"
            ],
            "text/plain": [
              "          Watchers     Forks     Stars\n",
              "Watchers  1.000000  0.764951  0.914642\n",
              "Forks     0.764951  1.000000  0.788725\n",
              "Stars     0.914642  0.788725  1.000000"
            ]
          },
          "metadata": {},
          "execution_count": 25
        }
      ]
    },
    {
      "cell_type": "code",
      "metadata": {
        "colab": {
          "base_uri": "https://localhost:8080/",
          "height": 142
        },
        "id": "UXHopAh6PJ4A",
        "outputId": "1506f14f-8ea0-4717-ecc5-5ba323134729"
      },
      "source": [
        "# Spearman rank correlation\n",
        "correlation_data.corr(method='spearman')"
      ],
      "execution_count": null,
      "outputs": [
        {
          "output_type": "execute_result",
          "data": {
            "text/html": [
              "<div>\n",
              "<style scoped>\n",
              "    .dataframe tbody tr th:only-of-type {\n",
              "        vertical-align: middle;\n",
              "    }\n",
              "\n",
              "    .dataframe tbody tr th {\n",
              "        vertical-align: top;\n",
              "    }\n",
              "\n",
              "    .dataframe thead th {\n",
              "        text-align: right;\n",
              "    }\n",
              "</style>\n",
              "<table border=\"1\" class=\"dataframe\">\n",
              "  <thead>\n",
              "    <tr style=\"text-align: right;\">\n",
              "      <th></th>\n",
              "      <th>Watchers</th>\n",
              "      <th>Forks</th>\n",
              "      <th>Stars</th>\n",
              "    </tr>\n",
              "  </thead>\n",
              "  <tbody>\n",
              "    <tr>\n",
              "      <th>Watchers</th>\n",
              "      <td>1.000000</td>\n",
              "      <td>0.920165</td>\n",
              "      <td>0.908433</td>\n",
              "    </tr>\n",
              "    <tr>\n",
              "      <th>Forks</th>\n",
              "      <td>0.920165</td>\n",
              "      <td>1.000000</td>\n",
              "      <td>0.962085</td>\n",
              "    </tr>\n",
              "    <tr>\n",
              "      <th>Stars</th>\n",
              "      <td>0.908433</td>\n",
              "      <td>0.962085</td>\n",
              "      <td>1.000000</td>\n",
              "    </tr>\n",
              "  </tbody>\n",
              "</table>\n",
              "</div>"
            ],
            "text/plain": [
              "          Watchers     Forks     Stars\n",
              "Watchers  1.000000  0.920165  0.908433\n",
              "Forks     0.920165  1.000000  0.962085\n",
              "Stars     0.908433  0.962085  1.000000"
            ]
          },
          "metadata": {},
          "execution_count": 26
        }
      ]
    },
    {
      "cell_type": "code",
      "metadata": {
        "colab": {
          "base_uri": "https://localhost:8080/",
          "height": 142
        },
        "id": "oeVDTlmkTG6Y",
        "outputId": "2bc8f25f-d87a-4123-910a-79dbda28a2db"
      },
      "source": [
        "# Kendall Tau correlation coefficient\n",
        "correlation_data.corr(method='kendall')"
      ],
      "execution_count": null,
      "outputs": [
        {
          "output_type": "execute_result",
          "data": {
            "text/html": [
              "<div>\n",
              "<style scoped>\n",
              "    .dataframe tbody tr th:only-of-type {\n",
              "        vertical-align: middle;\n",
              "    }\n",
              "\n",
              "    .dataframe tbody tr th {\n",
              "        vertical-align: top;\n",
              "    }\n",
              "\n",
              "    .dataframe thead th {\n",
              "        text-align: right;\n",
              "    }\n",
              "</style>\n",
              "<table border=\"1\" class=\"dataframe\">\n",
              "  <thead>\n",
              "    <tr style=\"text-align: right;\">\n",
              "      <th></th>\n",
              "      <th>Watchers</th>\n",
              "      <th>Forks</th>\n",
              "      <th>Stars</th>\n",
              "    </tr>\n",
              "  </thead>\n",
              "  <tbody>\n",
              "    <tr>\n",
              "      <th>Watchers</th>\n",
              "      <td>1.000000</td>\n",
              "      <td>0.834567</td>\n",
              "      <td>1.000000</td>\n",
              "    </tr>\n",
              "    <tr>\n",
              "      <th>Forks</th>\n",
              "      <td>0.834567</td>\n",
              "      <td>1.000000</td>\n",
              "      <td>0.834567</td>\n",
              "    </tr>\n",
              "    <tr>\n",
              "      <th>Stars</th>\n",
              "      <td>1.000000</td>\n",
              "      <td>0.834567</td>\n",
              "      <td>1.000000</td>\n",
              "    </tr>\n",
              "  </tbody>\n",
              "</table>\n",
              "</div>"
            ],
            "text/plain": [
              "          Watchers     Forks     Stars\n",
              "Watchers  1.000000  0.834567  1.000000\n",
              "Forks     0.834567  1.000000  0.834567\n",
              "Stars     1.000000  0.834567  1.000000"
            ]
          },
          "metadata": {},
          "execution_count": 59
        }
      ]
    },
    {
      "cell_type": "markdown",
      "metadata": {
        "id": "0zUKaubRFJSs"
      },
      "source": [
        "Getting missing release stats for github projects"
      ]
    },
    {
      "cell_type": "code",
      "metadata": {
        "id": "cD0wq6WQIKUo"
      },
      "source": [
        "def get_github_tags(repo_data):\n",
        "    project_name, repo_url = repo_data\n",
        "    owner_name = repo_url.split('/')[-2]\n",
        "    repo_name = repo_url.split('/')[-1]\n",
        "    api_url = f\"https://api.github.com/repos/{owner_name}/{repo_name}/tags\"\n",
        "    response = requests.get(api_url, headers={'Authorization': f'token {github_token}'})\n",
        "    response_json = json.loads(response.text)\n",
        "    # pprint(response_json)\n",
        "    tags = []\n",
        "    for tag in response_json:\n",
        "      tags.append((project_name, repo_url, tag[\"name\"], tag[\"commit\"][\"url\"]))\n",
        "\n",
        "    return tags"
      ],
      "execution_count": null,
      "outputs": []
    },
    {
      "cell_type": "code",
      "metadata": {
        "id": "U_R9ytrsEhFJ"
      },
      "source": [
        "import pandas as pd\n",
        "\n",
        "# Get GitHub stats for missing projects\n",
        "missing_release_stats_filename = \"/content/drive/Shareddrives/ECS260-group5/dataset/447_missing_package.csv\"\n",
        "# top_5k_projects = pd.read_csv(github_stats_filename, nrows=2, low_memory=False)\n",
        "missing_release_projects = pd.read_csv(missing_release_stats_filename, low_memory=False)\n",
        "\n",
        "# take our name and repository url column\n",
        "missing_project_name_list = missing_release_projects[\"Name\"]\n",
        "missing_repo_list = missing_release_projects[\"Repository.URL\"]\n",
        "missing_zipped_list = zip(missing_project_name_list, missing_repo_list)\n",
        "\n",
        "# call get_github_releases for each project\n",
        "import concurrent.futures\n",
        "missing_release_dataset = []\n",
        "with concurrent.futures.ThreadPoolExecutor() as executor:\n",
        "  missing_results = executor.map(get_github_tags, missing_zipped_list)\n",
        "  for result in missing_results:\n",
        "    for missing_release in result:\n",
        "      missing_release_dataset.append(missing_release)\n",
        "\n",
        "# display(release_dataset)"
      ],
      "execution_count": null,
      "outputs": []
    },
    {
      "cell_type": "code",
      "metadata": {
        "id": "aen2E97pFvmR"
      },
      "source": [
        "display(missing_release_dataset)"
      ],
      "execution_count": null,
      "outputs": []
    },
    {
      "cell_type": "code",
      "metadata": {
        "id": "1PXRuc0nJ1t8"
      },
      "source": [
        "# write to csv Name, Repository URL, Release Name, Release URL\n",
        "import numpy as np\n",
        "\n",
        "release_column_names = ['Name', 'Repository URL', 'Release Name', 'Release URL']\n",
        "missing_release_data = np.array(missing_release_dataset)\n",
        "\n",
        "missing_release_dataframe = pd.DataFrame(missing_release_data, columns=release_column_names)\n",
        "# display(release_dataframe)\n",
        "missing_release_dataframe.to_csv('/content/drive/Shareddrives/ECS260-group5/dataset/missing_github_releases.csv')"
      ],
      "execution_count": null,
      "outputs": []
    }
  ]
}